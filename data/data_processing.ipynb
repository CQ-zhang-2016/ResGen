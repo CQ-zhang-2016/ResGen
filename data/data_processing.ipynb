{
 "cells": [
  {
   "cell_type": "markdown",
   "metadata": {},
   "source": [
    "The lmdb file was used here, we will process the raw data to the .lmdb file first"
   ]
  },
  {
   "cell_type": "code",
   "execution_count": 3,
   "metadata": {},
   "outputs": [],
   "source": [
    "import lmdb\n",
    "import pickle\n",
    "import os\n",
    "import sys\n",
    "from tqdm.auto import tqdm\n",
    "res2mol_path = '../../Res2Mol/'\n",
    "sys.path.append(res2mol_path)"
   ]
  },
  {
   "cell_type": "code",
   "execution_count": 8,
   "metadata": {},
   "outputs": [],
   "source": [
    "from utils.protein_ligand import PDBProtein, parse_sdf_file\n",
    "from utils.data import ProteinLigandData, torchify_dict\n",
    "from utils.feats.protein import process_PDB_v2"
   ]
  },
  {
   "cell_type": "code",
   "execution_count": null,
   "metadata": {},
   "outputs": [],
   "source": [
    "raw_path = './crossdocked_pocket10'\n",
    "index_path = os.path.join(raw_path, 'index.pkl')\n",
    "processed_path = os.path.join(os.path.dirname(raw_path), os.path.basename(raw_path) + '_processed.lmdb')\n",
    "db = lmdb.open(\n",
    "    processed_path,\n",
    "    map_size=10*(1024*1024*1024),   # 10GB\n",
    "    create=True,\n",
    "    subdir=False,\n",
    "    readonly=False, # Writable\n",
    ")\n",
    "\n",
    "with open(index_path, 'rb') as f:\n",
    "    index = pickle.load(f)\n",
    "\n",
    "num_skipped = 0\n",
    "with db.begin(write=True, buffers=True) as txn:\n",
    "    for i, (pocket_fn, ligand_fn, _, rmsd_str) in enumerate(tqdm(index)):\n",
    "        if pocket_fn is None: continue\n",
    "        try:\n",
    "            pocket_dict = process_PDB_v2(os.path.join(raw_path, pocket_fn))\n",
    "            ligand_dict = parse_sdf_file(os.path.join(raw_path, ligand_fn))\n",
    "            data = ProteinLigandData.from_protein_ligand_dicts(\n",
    "                protein_dict=torchify_dict(pocket_dict),\n",
    "                ligand_dict=torchify_dict(ligand_dict),\n",
    "            )\n",
    "            data.protein_filename = pocket_fn\n",
    "            data.ligand_filename = ligand_fn\n",
    "            txn.put(\n",
    "                key = str(i).encode(),\n",
    "                value = pickle.dumps(data)\n",
    "            )\n",
    "        except:\n",
    "            num_skipped += 1\n",
    "            if num_skipped % 1000 == 0:\n",
    "                print('skipping {}'.format(num_skipped))\n",
    "            #print('Skipping (%d) %s' % (num_skipped, ligand_fn, ))\n",
    "            continue\n",
    "db.close()"
   ]
  }
 ],
 "metadata": {
  "kernelspec": {
   "display_name": "Python 3.9.15 ('carbon')",
   "language": "python",
   "name": "python3"
  },
  "language_info": {
   "codemirror_mode": {
    "name": "ipython",
    "version": 3
   },
   "file_extension": ".py",
   "mimetype": "text/x-python",
   "name": "python",
   "nbconvert_exporter": "python",
   "pygments_lexer": "ipython3",
   "version": "3.9.15"
  },
  "orig_nbformat": 4,
  "vscode": {
   "interpreter": {
    "hash": "8cb457098628399098f8244ea6d862b61e5b409c4fe20c91d3202c562013c713"
   }
  }
 },
 "nbformat": 4,
 "nbformat_minor": 2
}
